{
 "cells": [
  {
   "cell_type": "code",
   "execution_count": 1,
   "id": "522139e3",
   "metadata": {},
   "outputs": [],
   "source": [
    "from bs4 import BeautifulSoup\n",
    "from urllib.request import urlopen\n",
    "import re\n",
    "import pandas as pd\n",
    "\n",
    "url=\"https://www.wikipedia.org/wiki/Main_Page\"\n",
    "html=urlopen(url)\n",
    "bs=BeautifulSoup(html,'lxml')\n",
    "\n",
    "links=bs.find(\"div\",{\"id\":\"bodyContent\"}).findAll(\"a\",href=re.compile(\"(/wiki/)+([A-Za-z0-9_:()])+\"))\n",
    "li=[]\n",
    "for link in links:\n",
    "    li.append(\"https://www.wikipedia.org\"+link['href'])"
   ]
  },
  {
   "cell_type": "code",
   "execution_count": 2,
   "id": "3a8b32a5",
   "metadata": {},
   "outputs": [],
   "source": [
    "linkDF=pd.DataFrame({'Link':li})"
   ]
  },
  {
   "cell_type": "code",
   "execution_count": 3,
   "id": "604f8023",
   "metadata": {},
   "outputs": [],
   "source": [
    "linkDF.to_csv('Link.csv',index=False)"
   ]
  },
  {
   "cell_type": "code",
   "execution_count": null,
   "id": "7281ded8",
   "metadata": {},
   "outputs": [],
   "source": []
  }
 ],
 "metadata": {
  "kernelspec": {
   "display_name": "Python 3 (ipykernel)",
   "language": "python",
   "name": "python3"
  },
  "language_info": {
   "codemirror_mode": {
    "name": "ipython",
    "version": 3
   },
   "file_extension": ".py",
   "mimetype": "text/x-python",
   "name": "python",
   "nbconvert_exporter": "python",
   "pygments_lexer": "ipython3",
   "version": "3.9.12"
  }
 },
 "nbformat": 4,
 "nbformat_minor": 5
}
